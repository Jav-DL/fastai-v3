{
  "nbformat": 4,
  "nbformat_minor": 0,
  "metadata": {
    "colab": {
      "name": "Mp3_to_Spectrograms.py",
      "version": "0.3.2",
      "provenance": [],
      "include_colab_link": true
    },
    "kernelspec": {
      "name": "python3",
      "display_name": "Python 3"
    }
  },
  "cells": [
    {
      "cell_type": "markdown",
      "metadata": {
        "id": "view-in-github",
        "colab_type": "text"
      },
      "source": [
        "<a href=\"https://colab.research.google.com/github/Jav-DL/fastai-v3/blob/master/Mp3_to_Spectrograms_py.ipynb\" target=\"_parent\"><img src=\"https://colab.research.google.com/assets/colab-badge.svg\" alt=\"Open In Colab\"/></a>"
      ]
    },
    {
      "cell_type": "code",
      "metadata": {
        "id": "zK_1d9_7JPlG",
        "colab_type": "code",
        "colab": {
          "base_uri": "https://localhost:8080/",
          "height": 35
        },
        "outputId": "6a5e9751-b61a-4129-df94-4a1868bf8afd"
      },
      "source": [
        "!pip install pydub"
      ],
      "execution_count": 21,
      "outputs": [
        {
          "output_type": "stream",
          "text": [
            "Requirement already satisfied: pydub in /usr/local/lib/python3.6/dist-packages (0.23.1)\n"
          ],
          "name": "stdout"
        }
      ]
    },
    {
      "cell_type": "code",
      "metadata": {
        "id": "Wew-SLJDEEq1",
        "colab_type": "code",
        "colab": {
          "base_uri": "https://localhost:8080/",
          "height": 203
        },
        "outputId": "a0dba1c6-f912-4c80-e8c6-64d4f89bd7c9"
      },
      "source": [
        "\n",
        "import os\n",
        "import glob\n",
        "import shutil\n",
        "import subprocess\n",
        "import argparse\n",
        "from pydub import AudioSegment\n",
        "from pydub.utils import make_chunks\n",
        "from scipy.io import wavfile\n",
        "from matplotlib import pyplot as plt\n",
        "from PIL import Image\n",
        "\n",
        "\n",
        "def mp3towav(path):\n",
        "    folders=glob.glob(path+'*')\n",
        "    #print \"folders\",folders\n",
        "    for folder in folders:\n",
        "      files = glob.glob(folder+'/'+ '*.mp3')\n",
        "      #print files\n",
        "      if len(files) == 0:\n",
        "          return 10\n",
        "      for file in files:\n",
        "          mp = file\n",
        "          wa = file.replace('mp3', 'wav')\n",
        "          try:\n",
        "            print(\"Converting using sox\")\n",
        "            subprocess.call(['sox', mp, '-e', 'mu-law', '-r', '16k', wa, 'remix', '1,2'])\n",
        "          except Exception as e:\n",
        "            print(\"Converting using ffmpeg\")\n",
        "            try:\n",
        "              subprocess.call('ffmpeg -i %s -acodec pcm_s16le -ac 1 -ar 16000 %s' %(mp,wa),shell=True)\n",
        "            except Exception as e:\n",
        "              print(\"Error while converting: \"+str(e))  \n",
        "\n",
        "def makechunks(path):\n",
        "    folders=glob.glob(path+'*')\n",
        "    for folder in folders:\n",
        "      waves = glob.glob(folder+'/'+ '*.wav')\n",
        "      print ('w',waves)\n",
        "      if len(waves) == 0:\n",
        "          return 10\n",
        "      for i in waves:\n",
        "          w = i\n",
        "          myaudio = AudioSegment.from_file(i, 'wav')\n",
        "          chunk_length_ms = 20000\n",
        "          chunks = make_chunks(myaudio, chunk_length_ms)\n",
        "          print (chunks)\n",
        "          for i, chunk in enumerate(chunks):\n",
        "              chunk_name = w.split('.')[0] + \"chunk{0}.wav\".format(i)\n",
        "              print (chunk_name)\n",
        "              print (\"exporting\", chunk_name)\n",
        "              chunk.export(folder+'/'+chunk_name, format=\"wav\")\n",
        "\n",
        "\n",
        "def graph_spectrogram(wav_file):\n",
        "    rate, data = get_wav_info(wav_file)\n",
        "    print (type(data), len(data))\n",
        "    nfft = 256  # Length of the windowing segments\n",
        "    fs = 256  # Sampling frequency\n",
        "    pxx, freqs, bins, im = plt.specgram(data, nfft, fs)\n",
        "    print (\"pxx : \", len(pxx))\n",
        "    print (\"freqs : \", len(freqs))\n",
        "    print (\"bins : \", len(bins))\n",
        "    # plt.axis('on')\n",
        "    # plt.show()\n",
        "    plt.axis('off')\n",
        "    print (wav_file.split('.wav')[0])\n",
        "    plt.savefig(wav_file.split('.wav')[0] + '.png',\n",
        "                dpi=100,  # Dots per inch\n",
        "                frameon='false',\n",
        "                aspect='normal',\n",
        "                bbox_inches='tight',\n",
        "                pad_inches=0)  # Spectrogram saved as a .png\n",
        "    try:\n",
        "      im = Image.open(wav_file.split('.wav')[0] + '.png')\n",
        "      rgb_im = im.convert('RGB')\n",
        "      rgb_im.save(wav_file.split('.png')[0] + '.jpg')\n",
        "    except Exception as e:\n",
        "      print (e)\n",
        "    if os.path.exists(wav_file.split('.wav')[0] + '.png'):\n",
        "        os.system('convert '+(wav_file.split('.wav')[0] + '.png') + ' '+(wav_file.split('.wav')[0] + '.jpg'))\n",
        "        os.remove(wav_file.split('.wav')[0] + '.png')\n",
        "\n",
        "\n",
        "def get_wav_info(wav_file):\n",
        "    rate, data = wavfile.read(wav_file)\n",
        "    return rate, data\n",
        "\n",
        "\n",
        "def wav2spectrogram(path):\n",
        "    folders = glob.glob(path+'*')\n",
        "    for folder in folders:\n",
        "      waves = glob.glob(folder+'/' + '*.wav')\n",
        "      print (waves)\n",
        "      if len(waves) == 0:\n",
        "        return 10\n",
        "      for f in waves:\n",
        "        try:\n",
        "            print (\"Generating spectrograms..\")\n",
        "            graph_spectrogram(f)\n",
        "        except Exception as e:\n",
        "            print (\"Something went wrong while generating spectrogram: \", e)\n",
        "\n",
        "def move_images(path):\n",
        "    folders = glob.glob('*')\n",
        "    for folder in folders:\n",
        "        os.makedirs('../tf_files/data_image/'+folder)\n",
        "        waves=glob.glob('*.jpg')\n",
        "        print (waves)\n",
        "        for wav in waves:\n",
        "            shutil.move(path+folder+'/'+wav,'../tf_files/data_image/'+folder+'/'+wav)\n",
        "\n",
        "\n",
        "if __name__ == '__main__':\n",
        "    path='../tf_files/data_audio/'\n",
        "    parser = argparse.ArgumentParser()\n",
        "    #parser.add_argument('path', help=\"Specify the path to the music directory\", default=\"../tf_files/data_mp3/\")\n",
        "    parser.add_argument('--mkchunks', help=\"Set this flag if you want to make chunks of waves\", action=\"store_true\", default=True)\n",
        "    parser.add_argument('--mp3towav', help=\"Set this flag if you want to convert mp3 to wav\", action=\"store_true\",default=True)\n",
        "    parser.add_argument('--spectrogram', help=\"Set this flags  to create spectrograms\", action=\"store_true\",default=True)\n",
        "    args = parser.parse_args()\n",
        "    if args.mp3towav:\n",
        "        print\n",
        "        (\"Path : \", path)\n",
        "        try:\n",
        "            r = mp3towav(path)\n",
        "            if r == 10:\n",
        "                print\n",
        "                (\"No mp3 files in specified directory\")\n",
        "            else:\n",
        "                print\n",
        "                (\"All mp3 files processed completely\")\n",
        "        except Exception as e:\n",
        "            print\n",
        "            (\"Something went wrong :\", e)\n",
        "    if args.mkchunks:\n",
        "        print\n",
        "        (\"Searching for wav files in :\", path)\n",
        "        try:\n",
        "            r = makechunks(path)\n",
        "            if r == 10:\n",
        "                print\n",
        "                (\"No wav files in given path\")\n",
        "            else:\n",
        "                print\n",
        "                (\"Completed successfully\")\n",
        "        except Exception as e:\n",
        "            print\n",
        "            (\"Something went wrong : \", e)\n",
        "    if args.spectrogram:\n",
        "        print (\"Finding files in : \", path)\n",
        "        try:\n",
        "            r = wav2spectrogram(path)\n",
        "            if r == 10:\n",
        "                print (\"No wav files found in the given path\")\n",
        "            else:\n",
        "                move_images(path)\n",
        "                print (\"All mp3 files processed completely\")\n",
        "        except Exception as e:\n",
        "            move_images(path)\n",
        "            print (\"Something went wrong: \", e)\n",
        "            \n",
        "#a = mp3towav('/content/tone.wav')"
      ],
      "execution_count": 24,
      "outputs": [
        {
          "output_type": "stream",
          "text": [
            "usage: ipykernel_launcher.py [-h] [--mkchunks] [--mp3towav] [--spectrogram]\n",
            "ipykernel_launcher.py: error: unrecognized arguments: -f /root/.local/share/jupyter/runtime/kernel-7d293636-d27d-43a5-87a6-44c92b0e1a96.json\n"
          ],
          "name": "stderr"
        },
        {
          "output_type": "error",
          "ename": "SystemExit",
          "evalue": "ignored",
          "traceback": [
            "An exception has occurred, use %tb to see the full traceback.\n",
            "\u001b[0;31mSystemExit\u001b[0m\u001b[0;31m:\u001b[0m 2\n"
          ]
        },
        {
          "output_type": "stream",
          "text": [
            "/usr/local/lib/python3.6/dist-packages/IPython/core/interactiveshell.py:2890: UserWarning: To exit: use 'exit', 'quit', or Ctrl-D.\n",
            "  warn(\"To exit: use 'exit', 'quit', or Ctrl-D.\", stacklevel=1)\n"
          ],
          "name": "stderr"
        }
      ]
    }
  ]
}